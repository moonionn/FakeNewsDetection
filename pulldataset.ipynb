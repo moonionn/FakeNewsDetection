{
 "cells": [
  {
   "cell_type": "markdown",
   "source": [
    "### 下載數據"
   ],
   "metadata": {
    "collapsed": false
   },
   "id": "73af45b65152e7fe"
  },
  {
   "cell_type": "code",
   "outputs": [],
   "source": [
    "from datasets import load_dataset\n",
    "import pandas as pd\n",
    "\n",
    "# 加載數據集\n",
    "dataset = load_dataset(\"liar\")\n",
    "\n",
    "# 選擇數據集的一個分割，例如訓練集，並轉換為Pandas DataFrame\n",
    "df = dataset['train'].to_pandas()\n",
    "test_df = dataset['test'].to_pandas()\n",
    "valid_df = dataset['validation'].to_pandas()\n",
    "\n",
    "# 將DataFrame導出為CSV文件\n",
    "df.to_csv('dataset/fake_train.csv', index=False)\n",
    "test_df.to_csv('dataset/fake_test.csv', index=False)\n",
    "valid_df.to_csv('dataset/fake_valid.csv', index=False)"
   ],
   "metadata": {
    "collapsed": false,
    "ExecuteTime": {
     "end_time": "2024-04-02T08:42:56.452346Z",
     "start_time": "2024-04-02T08:42:50.757656Z"
    }
   },
   "id": "f10547a9de7cfed5",
   "execution_count": 11
  },
  {
   "cell_type": "code",
   "outputs": [],
   "source": [],
   "metadata": {
    "collapsed": false
   },
   "id": "73b9348b4949dc98"
  }
 ],
 "metadata": {
  "kernelspec": {
   "display_name": "Python 3",
   "language": "python",
   "name": "python3"
  },
  "language_info": {
   "codemirror_mode": {
    "name": "ipython",
    "version": 2
   },
   "file_extension": ".py",
   "mimetype": "text/x-python",
   "name": "python",
   "nbconvert_exporter": "python",
   "pygments_lexer": "ipython2",
   "version": "2.7.6"
  }
 },
 "nbformat": 4,
 "nbformat_minor": 5
}
